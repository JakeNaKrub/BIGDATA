{
 "cells": [
  {
   "cell_type": "code",
   "execution_count": null,
   "id": "97e77197",
   "metadata": {},
   "outputs": [
    {
     "name": "stdout",
     "output_type": "stream",
     "text": [
      "      ROE    P/E   P/B   D/E  Current Ratio  Net Profit Margin        EBITDA  \\\n",
      "0  0.0975  23.49  3.85  1.44           2.01             0.1302  4.592457e+09   \n",
      "\n",
      "   Diluted EPS  3m_momentum  6m_momentum  \n",
      "0         9.03       0.0018       0.8059  \n",
      "Predicted encoded classes: [2]\n",
      "\n",
      "Predicted probabilities (first 10 samples):\n",
      "Predicted decoded classes: [1]\n"
     ]
    }
   ],
   "source": [
    "import xgboost as xgb\n",
    "import numpy as np\n",
    "from sklearn.preprocessing import LabelEncoder \n",
    "le = LabelEncoder()\n",
    "le.fit([-1, 0, 1]) \n",
    "# Load your pre-trained model\n",
    "bst_loaded = xgb.Booster()\n",
    "bst_loaded.load_model('xgboost_model.json')  # Update path if needed\n",
    "\n",
    "# Assuming you have your test data (X_test, y_test) available:\n",
    "# Convert X_test and y_test to DMatrix format\n",
    "import pandas as pd\n",
    "import numpy as np\n",
    "from datetime import datetime\n",
    "\n",
    "# Create a dictionary with random values for each column\n",
    "data = {\n",
    "    'ROE': [np.round(np.random.uniform(0.05, 0.3), 4)],  # Return on Equity (5-30%)\n",
    "    'P/E': [np.round(np.random.uniform(10, 30), 2)],  # Price-to-Earnings ratio\n",
    "    'P/B': [np.round(np.random.uniform(1, 5), 2)],  # Price-to-Book ratio\n",
    "    'D/E': [np.round(np.random.uniform(0.1, 1.5), 2)],  # Debt-to-Equity ratio\n",
    "    'Current Ratio': [np.round(np.random.uniform(0.5, 3), 2)],  # Current ratio\n",
    "    'Net Profit Margin': [np.round(np.random.uniform(0.05, 0.25), 4)],  # Profit margin\n",
    "    'EBITDA': [np.round(np.random.uniform(1e9, 5e9), 2)],  # EBITDA in dollars\n",
    "    'Diluted EPS': [np.round(np.random.uniform(1, 10), 2)],  # Earnings per share\n",
    "    '3m_momentum': [np.round(np.random.uniform(-1, 1), 4)],  # Momentum score\n",
    "    '6m_momentum': [np.round(np.random.uniform(-1, 1), 4)]  # Momentum score\n",
    "}\n",
    "\n",
    "# Create DataFrame\n",
    "df = pd.DataFrame(data)\n",
    "print(df)\n",
    "\n",
    "\n",
    "dval = xgb.DMatrix(df)\n",
    "\n",
    "# Predict with the loaded model\n",
    "preds = bst_loaded.predict(dval)  # Shape: (n_samples, n_classes)\n",
    "\n",
    "# Convert probabilities to class labels\n",
    "preds_class = np.argmax(preds, axis=1)  # Encoded: 0 (Sell), 1 (Hold), 2 (Buy)\n",
    "\n",
    "\n",
    "preds_class_decoded = le.inverse_transform([2])  # Decode to -1, 0, 1\n",
    "return preds_class_decoded\n"
   ]
  },
  {
   "cell_type": "code",
   "execution_count": 27,
   "id": "b08ee222",
   "metadata": {},
   "outputs": [
    {
     "name": "stdout",
     "output_type": "stream",
     "text": [
      "\n",
      "Complete Balance Sheet for AAPL:\n",
      "<bound method TickerBase.get_info of yfinance.Ticker object <AAPL>>\n"
     ]
    }
   ],
   "source": [
    "import yfinance as yf\n",
    "import pandas as pd\n",
    "\n",
    "# Set pandas display options to show all rows\n",
    "pd.set_option('display.max_rows', None)\n",
    "pd.set_option('display.max_columns', None)\n",
    "pd.set_option('display.width', 1000)\n",
    "pd.set_option('display.max_colwidth', None)\n",
    "\n",
    "def get_full_balance_sheet(ticker_symbol):\n",
    "    try:\n",
    "        # Get the stock data\n",
    "        stock = yf.Ticker(ticker_symbol)\n",
    "        \n",
    "        # Get the balance sheet\n",
    "        balance_sheet = stock.get_info\n",
    "\n",
    "        \n",
    "        # Transpose for better readability (dates as rows)\n",
    "        balance_sheet_transposed = balance_sheet\n",
    "        \n",
    "        # Convert to DataFrame if it's a Series\n",
    "\n",
    "        \n",
    "        return balance_sheet_transposed\n",
    "    \n",
    "    except Exception as e:\n",
    "        print(f\"Error fetching balance sheet for {ticker_symbol}: {str(e)}\")\n",
    "        return None\n",
    "\n",
    "# Example usage\n",
    "ticker = \"AAPL\"  # Change to your desired ticker\n",
    "balance_sheet = get_full_balance_sheet(ticker)\n",
    "\n",
    "if balance_sheet is not None:\n",
    "    print(f\"\\nComplete Balance Sheet for {ticker}:\")\n",
    "    print(balance_sheet)"
   ]
  }
 ],
 "metadata": {
  "kernelspec": {
   "display_name": "base",
   "language": "python",
   "name": "python3"
  },
  "language_info": {
   "codemirror_mode": {
    "name": "ipython",
    "version": 3
   },
   "file_extension": ".py",
   "mimetype": "text/x-python",
   "name": "python",
   "nbconvert_exporter": "python",
   "pygments_lexer": "ipython3",
   "version": "3.12.9"
  }
 },
 "nbformat": 4,
 "nbformat_minor": 5
}
